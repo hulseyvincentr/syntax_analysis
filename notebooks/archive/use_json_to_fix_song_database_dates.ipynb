{
 "cells": [
  {
   "cell_type": "markdown",
   "metadata": {},
   "source": [
    "## This code uses the dates from the .json file (generated from running gen_bird_params_json.ipynb in the folder containing the bird's days of recorded data) to correct the dates from the TweetyBERT .csv file (which assumes all recordings happened in 2024). \n",
    "\n",
    "### NOTE: This code assumes that the .csv file contains the Bird ID in its file name, which it uses to find the corresponding json file. It also assumes that we have not collected data from the bird for over one year (e.g. don't have to worry about 2 Octobers' data)."
   ]
  },
  {
   "cell_type": "code",
   "execution_count": 11,
   "metadata": {},
   "outputs": [
    {
     "name": "stdout",
     "output_type": "stream",
     "text": [
      "Found JSON file: /Users/mirandahulsey-vincent/Documents/allPythonCode/syntax_analysis/2nd_set_of_song_databases/USA5468_RC3_creation_data.json\n",
      "Year values have been updated based on matching months. Corrected CSV saved to /Users/mirandahulsey-vincent/Documents/allPythonCode/syntax_analysis/2nd_set_of_song_databases/corrected_labels_USA5468_RC3_AreaXRose_database.csv\n"
     ]
    }
   ],
   "source": [
    "import os\n",
    "import re\n",
    "import pandas as pd\n",
    "import json\n",
    "from datetime import datetime\n",
    "\n",
    "# Function to extract the ID from the file path\n",
    "def extract_id_from_path(file_path):\n",
    "    # Use regular expression to find the pattern 'USA' followed by 4 digits\n",
    "    match = re.search(r'USA\\d{4}', file_path)\n",
    "    if match:\n",
    "        return match.group(0)\n",
    "    else:\n",
    "        return None\n",
    "\n",
    "# Function to find the corresponding JSON file in the same directory as the CSV\n",
    "def find_json_in_csv_directory(csv_file_path):\n",
    "    # Extract the directory from the csv file path\n",
    "    directory = os.path.dirname(csv_file_path)\n",
    "    # Extract the ID number from the csv file path\n",
    "    id_number = extract_id_from_path(csv_file_path)\n",
    "    \n",
    "    if id_number is None:\n",
    "        return None\n",
    "\n",
    "    # Search for a .json file in the same directory that contains the ID number\n",
    "    for filename in os.listdir(directory):\n",
    "        if filename.endswith(\".json\") and id_number in filename:\n",
    "            return os.path.join(directory, filename)\n",
    "    \n",
    "    return None\n",
    "\n",
    "# Function to update the year based on the JSON file's creation dates\n",
    "def update_years_in_csv(csv_file_path):\n",
    "    # Find the corresponding JSON file\n",
    "    json_file = find_json_in_csv_directory(csv_file_path)\n",
    "\n",
    "    if not json_file:\n",
    "        print(\"No matching JSON file found in the directory.\")\n",
    "        return\n",
    "\n",
    "    print(f\"Found JSON file: {json_file}\")\n",
    "    \n",
    "    # Load the CSV file\n",
    "    df = pd.read_csv(csv_file_path)\n",
    "\n",
    "    # Load the JSON file\n",
    "    with open(json_file, 'r') as f:\n",
    "        creation_data = json.load(f)\n",
    "\n",
    "    # Extract the subdirectory data and unique creation dates from the JSON file\n",
    "    subdirectories = creation_data['subdirectories']\n",
    "    creation_dates = []\n",
    "    for subdir in subdirectories.values():\n",
    "        creation_dates.extend(subdir['unique_file_creation_dates'])\n",
    "\n",
    "    # Convert the creation dates to datetime objects for easier comparison\n",
    "    creation_dates_dt = [datetime.strptime(date, \"%Y-%m-%d\") for date in creation_dates]\n",
    "\n",
    "    # Function to match the month and update the year in the CSV date_time\n",
    "    def update_year(row):\n",
    "        # Extract month and day from the current date_time in the CSV\n",
    "        current_date = datetime.strptime(row['date_time'], \"%Y-%m-%d %H:%M:%S\")\n",
    "\n",
    "        # Find a matching creation date by month\n",
    "        for creation_date in creation_dates_dt:\n",
    "            if current_date.month == creation_date.month:\n",
    "                # Update the year in the CSV date_time to match the JSON creation date's year\n",
    "                return current_date.replace(year=creation_date.year)\n",
    "\n",
    "        # If no match, return the original date_time\n",
    "        return current_date\n",
    "\n",
    "    # Apply the update_year function to the CSV DataFrame\n",
    "    df['date_time'] = df.apply(update_year, axis=1)\n",
    "\n",
    "    # Save the updated CSV file in the same directory as the original file\n",
    "    corrected_csv_path = os.path.join(os.path.dirname(csv_file_path), 'corrected_' + os.path.basename(csv_file_path))\n",
    "    df.to_csv(corrected_csv_path, index=False)\n",
    "\n",
    "    print(f\"Year values have been updated based on matching months. Corrected CSV saved to {corrected_csv_path}\")\n",
    "\n",
    "# Set the path to your CSV file here\n",
    "csv_file_path = \"/Users/mirandahulsey-vincent/Documents/allPythonCode/syntax_analysis/2nd_set_of_song_databases/labels_USA5468_RC3_AreaXRose_database.csv\"\n",
    "\n",
    "# Call the function to update the CSV based on the corresponding JSON file\n",
    "update_years_in_csv(csv_file_path)\n"
   ]
  },
  {
   "cell_type": "code",
   "execution_count": null,
   "metadata": {},
   "outputs": [],
   "source": []
  }
 ],
 "metadata": {
  "kernelspec": {
   "display_name": "syntax_analysis",
   "language": "python",
   "name": "python3"
  },
  "language_info": {
   "codemirror_mode": {
    "name": "ipython",
    "version": 3
   },
   "file_extension": ".py",
   "mimetype": "text/x-python",
   "name": "python",
   "nbconvert_exporter": "python",
   "pygments_lexer": "ipython3",
   "version": "3.12.4"
  }
 },
 "nbformat": 4,
 "nbformat_minor": 2
}
