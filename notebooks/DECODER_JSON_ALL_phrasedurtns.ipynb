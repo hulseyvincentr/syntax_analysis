{
 "cells": [
  {
   "cell_type": "markdown",
   "metadata": {},
   "source": [
    "This code graphs all of the results from all the .json files inside of a folder"
   ]
  },
  {
   "cell_type": "code",
   "execution_count": null,
   "metadata": {
    "vscode": {
     "languageId": "plaintext"
    }
   },
   "outputs": [],
   "source": [
    "import os\n",
    "import pandas as pd\n",
    "\n",
    "class DecoderDataProcessor:\n",
    "    def __init__(self, csv_file_path):\n",
    "        self.csv_file_path = csv_file_path\n",
    "        self.decoder_dataframe = self.load_data()\n",
    "\n",
    "    def load_data(self):\n",
    "        print(f\"Reading CSV file: {self.csv_file_path}\")\n",
    "        return pd.read_csv(self.csv_file_path)\n",
    "\n",
    "    def organize_data(self):\n",
    "        # Your existing data organization logic here\n",
    "        pass\n",
    "\n",
    "    def plot_data(self):\n",
    "        # Your existing data plotting logic here\n",
    "        pass\n",
    "\n",
    "def process_folder(folder_path):\n",
    "    for file_name in os.listdir(folder_path):\n",
    "        if file_name.endswith('.csv'):\n",
    "            file_path = os.path.join(folder_path, file_name)\n",
    "            processor = DecoderDataProcessor(file_path)\n",
    "            processor.organize_data()\n",
    "            processor.plot_data()\n",
    "\n",
    "# Example usage:\n",
    "folder_path = '/Users/mirandahulsey-vincent/Documents/allPythonCode/syntax_analysis/data_inputs/Area_X_lesions_balanced_training_data/all_json_files'\n",
    "process_folder(folder_path)\n"
   ]
  }
 ],
 "metadata": {
  "language_info": {
   "name": "python"
  }
 },
 "nbformat": 4,
 "nbformat_minor": 2
}
