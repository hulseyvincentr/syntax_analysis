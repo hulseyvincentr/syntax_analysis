{
 "cells": [
  {
   "cell_type": "markdown",
   "metadata": {},
   "source": [
    "## This code goes through all the days of recording from each bird, then randomly gets 5 files from each day and copies them into a new folder, which George will annotation and use for training/testing different segmentation codes."
   ]
  },
  {
   "cell_type": "code",
   "execution_count": 2,
   "metadata": {},
   "outputs": [
    {
     "name": "stdout",
     "output_type": "stream",
     "text": [
      "Copied 5 files to /Users/mirandahulsey-vincent/Desktop/gen_output.\n"
     ]
    }
   ],
   "source": [
    "import os\n",
    "import random\n",
    "import shutil\n",
    "\n",
    "# Define the path to the main dataset folder and the destination folder\n",
    "dataset_folder = '/Users/mirandahulsey-vincent/Desktop/sample_generate_segmentation_dataset/USA5505'  # Change this to your actual dataset path\n",
    "destination_folder = '/Users/mirandahulsey-vincent/Desktop/gen_output'  # Change this to your actual destination path\n",
    "\n",
    "# Create the destination folder if it doesn't exist\n",
    "if not os.path.exists(destination_folder):\n",
    "    os.makedirs(destination_folder)\n",
    "\n",
    "# Collect all .wav files from subfolders\n",
    "wav_files = []\n",
    "for root, dirs, files in os.walk(dataset_folder):\n",
    "    for file in files:\n",
    "        if file.endswith('.wav'):\n",
    "            wav_files.append(os.path.join(root, file))\n",
    "\n",
    "# Check if there are at least 5 files\n",
    "if len(wav_files) < 5:\n",
    "    print(f\"Not enough .wav files found. Only {len(wav_files)} files available.\")\n",
    "else:\n",
    "    # Select 5 random .wav files\n",
    "    random_files = random.sample(wav_files, 5)\n",
    "\n",
    "    # Copy selected files to the destination folder\n",
    "    for file in random_files:\n",
    "        shutil.copy(file, destination_folder)\n",
    "    \n",
    "    print(f\"Copied {len(random_files)} files to {destination_folder}.\")\n"
   ]
  },
  {
   "cell_type": "code",
   "execution_count": 4,
   "metadata": {},
   "outputs": [
    {
     "name": "stdout",
     "output_type": "stream",
     "text": [
      "Copied USA5494_45402.26435219_4_20_7_20_35.wav to /Users/mirandahulsey-vincent/Desktop/gen_output\n",
      "Copied USA5494_45402.27609360_4_20_7_40_9.wav to /Users/mirandahulsey-vincent/Desktop/gen_output\n",
      "Copied USA5494_45402.27069817_4_20_7_31_9.wav to /Users/mirandahulsey-vincent/Desktop/gen_output\n",
      "Copied USA5494_45402.26278040_4_20_7_17_58.wav to /Users/mirandahulsey-vincent/Desktop/gen_output\n",
      "Copied USA5494_45402.26408072_4_20_7_20_8.wav to /Users/mirandahulsey-vincent/Desktop/gen_output\n",
      "Copied USA5494_45407.53999449_4_25_14_59_59.wav to /Users/mirandahulsey-vincent/Desktop/gen_output\n",
      "Copied USA5494_45407.54358016_4_25_15_5_58.wav to /Users/mirandahulsey-vincent/Desktop/gen_output\n",
      "Copied USA5494_45407.54412164_4_25_15_6_52.wav to /Users/mirandahulsey-vincent/Desktop/gen_output\n",
      "Copied USA5494_45407.53936007_4_25_14_58_56.wav to /Users/mirandahulsey-vincent/Desktop/gen_output\n",
      "Copied USA5494_45407.53972226_4_25_14_59_32.wav to /Users/mirandahulsey-vincent/Desktop/gen_output\n",
      "Copied USA5505_45407.54326170_4_25_15_5_26.wav to /Users/mirandahulsey-vincent/Desktop/gen_output\n",
      "Copied USA5505_45407.54205625_4_25_15_3_25.wav to /Users/mirandahulsey-vincent/Desktop/gen_output\n",
      "Copied USA5505_45407.54274360_4_25_15_4_34.wav to /Users/mirandahulsey-vincent/Desktop/gen_output\n",
      "Copied USA5505_45407.56503935_4_25_15_41_43.wav to /Users/mirandahulsey-vincent/Desktop/gen_output\n",
      "Copied USA5505_45407.54232126_4_25_15_3_52.wav to /Users/mirandahulsey-vincent/Desktop/gen_output\n",
      "Copied USA5505_45400.25223676_4_18_7_0_23.wav to /Users/mirandahulsey-vincent/Desktop/gen_output\n",
      "Copied USA5505_45400.25332598_4_18_7_2_12.wav to /Users/mirandahulsey-vincent/Desktop/gen_output\n",
      "Copied USA5505_45400.25148758_4_18_6_59_8.wav to /Users/mirandahulsey-vincent/Desktop/gen_output\n",
      "Copied USA5505_45400.25356183_4_18_7_2_36.wav to /Users/mirandahulsey-vincent/Desktop/gen_output\n",
      "Copied USA5505_45400.25245932_4_18_7_0_45.wav to /Users/mirandahulsey-vincent/Desktop/gen_output\n",
      "File selection and copying completed.\n"
     ]
    }
   ],
   "source": [
    "import os\n",
    "import random\n",
    "import shutil\n",
    "\n",
    "\n",
    "# Define the path to the main dataset folder and the destination folder\n",
    "# Define the base directory where subjects' data is stored\n",
    "base_directory = '/Users/mirandahulsey-vincent/Desktop/sample_generate_segmentation_dataset'\n",
    "\n",
    "# Define the output directory where you want to copy the random files\n",
    "output_directory =  '/Users/mirandahulsey-vincent/Desktop/gen_output' \n",
    "\n",
    "# Create the output directory if it doesn't exist\n",
    "if not os.path.exists(output_directory):\n",
    "    os.makedirs(output_directory)\n",
    "\n",
    "# Iterate over each subject's folder in the base directory\n",
    "for subject in os.listdir(base_directory):\n",
    "    subject_path = os.path.join(base_directory, subject)\n",
    "    \n",
    "    # Check if the subject path is a directory\n",
    "    if os.path.isdir(subject_path):\n",
    "        \n",
    "        # Iterate over each day's folder within the subject's directory\n",
    "        for day_folder in os.listdir(subject_path):\n",
    "            day_path = os.path.join(subject_path, day_folder)\n",
    "            \n",
    "            # Check if the day folder is a directory\n",
    "            if os.path.isdir(day_path):\n",
    "                # Get all the .wav files in the day folder\n",
    "                wav_files = [f for f in os.listdir(day_path) if f.endswith('.wav')]\n",
    "                \n",
    "                # Select 5 random files from the day's recordings (or fewer if less than 5 files exist)\n",
    "                random_files = random.sample(wav_files, min(5, len(wav_files)))\n",
    "                \n",
    "                # Copy the selected files to the output directory\n",
    "                for wav_file in random_files:\n",
    "                    src = os.path.join(day_path, wav_file)\n",
    "                    dest = os.path.join(output_directory, wav_file)\n",
    "                    shutil.copy(src, dest)\n",
    "                    print(f'Copied {wav_file} to {output_directory}')\n",
    "\n",
    "print(\"File selection and copying completed.\")\n"
   ]
  },
  {
   "cell_type": "code",
   "execution_count": null,
   "metadata": {},
   "outputs": [],
   "source": []
  }
 ],
 "metadata": {
  "kernelspec": {
   "display_name": "syntax_analysis",
   "language": "python",
   "name": "python3"
  },
  "language_info": {
   "codemirror_mode": {
    "name": "ipython",
    "version": 3
   },
   "file_extension": ".py",
   "mimetype": "text/x-python",
   "name": "python",
   "nbconvert_exporter": "python",
   "pygments_lexer": "ipython3",
   "version": "3.12.4"
  }
 },
 "nbformat": 4,
 "nbformat_minor": 2
}
